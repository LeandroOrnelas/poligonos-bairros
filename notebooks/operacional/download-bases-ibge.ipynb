{
 "cells": [
  {
   "cell_type": "markdown",
   "id": "de038770",
   "metadata": {},
   "source": [
    "# 📥 Download e Preparação das Bases IBGE\n",
    "\n",
    "Este notebook realiza o download, transformação e limpeza das bases IBGE utilizadas no projeto Polígonos de Uberlândia.\n",
    "\n",
    "Fluxo:\n",
    "1. Download dos arquivos\n",
    "2. Conversão para formato `.parquet`\n",
    "3. Remoção dos arquivos brutos\n"
   ]
  },
  {
   "cell_type": "code",
   "execution_count": 27,
   "id": "cedb55e8",
   "metadata": {},
   "outputs": [],
   "source": [
    "import os\n",
    "import requests\n",
    "import pandas as pd\n",
    "import zipfile\n",
    "import io\n",
    "import openpyxl\n",
    "import urllib.parse"
   ]
  },
  {
   "cell_type": "code",
   "execution_count": 28,
   "id": "ea372124",
   "metadata": {},
   "outputs": [],
   "source": [
    "bases_ibge = [\n",
    "    'https://ftp.ibge.gov.br/Censos/Censo_Demografico_2022/Agregados_por_Setores_Censitarios_preliminares/malha_com_atributos/setores/gpkg/UF/MG/MG_Malha_Preliminar_2022.gpkg',\n",
    "    'https://ftp.ibge.gov.br/Censos/Censo_Demografico_2022/Agregados_por_Setores_Censitarios_preliminares/agregados_por_setores_xlsx/BR/Agregados_preliminares_por_setores_censitarios_BR.xlsx',\n",
    "    'https://ftp.ibge.gov.br/Cadastro_Nacional_de_Enderecos_para_Fins_Estatisticos/Censo_Demografico_2022/Arquivos_CNEFE/CSV/Municipio/31_MG/3170206_UBERL%c3%82NDIA.zip'\n",
    "]"
   ]
  },
  {
   "cell_type": "code",
   "execution_count": 29,
   "id": "41444f69",
   "metadata": {},
   "outputs": [],
   "source": [
    "# 📌 Define o caminho da pasta onde vai salvar\n",
    "pasta_IBGE = os.path.join('..', '..', 'bases', 'IBGE')\n",
    "pasta_destino = os.path.join('..', '..', 'bases', 'tmp')\n",
    "os.makedirs(pasta_destino, exist_ok=True)"
   ]
  },
  {
   "cell_type": "markdown",
   "id": "107fd0cc",
   "metadata": {},
   "source": [
    "## 🔽 1. Baixar arquivos IBGE\n"
   ]
  },
  {
   "cell_type": "code",
   "execution_count": 30,
   "id": "f4efa59c",
   "metadata": {},
   "outputs": [],
   "source": [
    "for link in bases_ibge:\n",
    "    nome_arquivo = link.split('/')[-1]\n",
    "    if '.gpkg' in nome_arquivo:\n",
    "        caminho_completo = os.path.join(pasta_IBGE, nome_arquivo)\n",
    "    else:\n",
    "        caminho_completo = os.path.join(pasta_destino, nome_arquivo)"
   ]
  },
  {
   "cell_type": "code",
   "execution_count": 31,
   "id": "708246e7",
   "metadata": {},
   "outputs": [
    {
     "name": "stdout",
     "output_type": "stream",
     "text": [
      "✅ Baixado: MG_Malha_Preliminar_2022.gpkg\n",
      "✅ Baixado: Agregados_preliminares_por_setores_censitarios_BR.xlsx\n",
      "✅ Baixado: 3170206_UBERL%c3%82NDIA.zip\n"
     ]
    }
   ],
   "source": [
    "for link in bases_ibge:\n",
    "    nome_arquivo = link.split('/')[-1]\n",
    "    if '.gpkg' in nome_arquivo:\n",
    "        caminho_completo = os.path.join(pasta_IBGE, nome_arquivo)\n",
    "    else:\n",
    "        caminho_completo = os.path.join(pasta_destino, nome_arquivo)   \n",
    "    # Baixar\n",
    "    resposta = requests.get(link)\n",
    "    if resposta.status_code == 200:\n",
    "        with open(caminho_completo, 'wb') as f:\n",
    "            f.write(resposta.content)\n",
    "        print(f\"✅ Baixado: {nome_arquivo}\")\n",
    "    else:\n",
    "        print(f\"❌ Erro ao baixar {nome_arquivo} - Status {resposta.status_code}\")"
   ]
  },
  {
   "cell_type": "markdown",
   "id": "34e0f929",
   "metadata": {},
   "source": [
    "## 🛠 2. Ler arquivos e salvar em Parquet\n"
   ]
  },
  {
   "cell_type": "code",
   "execution_count": 32,
   "id": "94ad3543",
   "metadata": {},
   "outputs": [
    {
     "data": {
      "text/plain": [
       "['3170206_UBERL%c3%82NDIA.zip',\n",
       " 'Agregados_preliminares_por_setores_censitarios_BR.xlsx']"
      ]
     },
     "execution_count": 32,
     "metadata": {},
     "output_type": "execute_result"
    }
   ],
   "source": [
    "arquivos = os.listdir(pasta_destino)\n",
    "arquivos"
   ]
  },
  {
   "cell_type": "code",
   "execution_count": 33,
   "id": "7bae341a",
   "metadata": {},
   "outputs": [
    {
     "name": "stdout",
     "output_type": "stream",
     "text": [
      "Lendo 3170206_UBERL%c3%82NDIA.zip\n"
     ]
    },
    {
     "name": "stderr",
     "output_type": "stream",
     "text": [
      "C:\\Users\\leand\\AppData\\Local\\Temp\\ipykernel_16460\\2473383300.py:23: DtypeWarning: Columns (18,19,20,21,22) have mixed types. Specify dtype option on import or set low_memory=False.\n",
      "  df_tmp = pd.read_csv(f, sep=';', encoding='utf-8')\n"
     ]
    },
    {
     "name": "stdout",
     "output_type": "stream",
     "text": [
      "⚙️ Corrigindo coluna 'VAL_COMP_ELEM2' (mistura de tipos)\n",
      "⚙️ Corrigindo coluna 'VAL_COMP_ELEM3' (mistura de tipos)\n",
      "⚙️ Corrigindo coluna 'VAL_COMP_ELEM4' (mistura de tipos)\n",
      "✅ Salvo como Parquet: 3170206_UBERLÂNDIA.parquet\n",
      "Lendo Agregados_preliminares_por_setores_censitarios_BR.xlsx\n",
      "✅ Salvo como Parquet: Agregados_preliminares_por_setores_censitarios_BR.parquet\n"
     ]
    }
   ],
   "source": [
    "import pandas as pd\n",
    "import os\n",
    "import zipfile\n",
    "\n",
    "cidade = 3170206\n",
    "\n",
    "for arq in arquivos:\n",
    "    if '.gpkg' not in arq:\n",
    "        caminho_completo = os.path.join(pasta_destino, arq)\n",
    "        \n",
    "        print(f'Lendo {arq}')\n",
    "        \n",
    "        if arq.endswith('.xlsx'):\n",
    "            # Ler Excel\n",
    "            df_tmp = pd.read_excel(caminho_completo)\n",
    "            df_tmp = df_tmp[df_tmp['CD_MUN'] == cidade]\n",
    "        \n",
    "        elif arq.endswith('.zip'):\n",
    "            # Ler CSV dentro do ZIP\n",
    "            with zipfile.ZipFile(caminho_completo, 'r') as zip_ref:\n",
    "                nome_csv = zip_ref.namelist()[0]\n",
    "                with zip_ref.open(nome_csv) as f:\n",
    "                    df_tmp = pd.read_csv(f, sep=';', encoding='utf-8')\n",
    "        \n",
    "        else:\n",
    "            print(f'⚠️ Formato inesperado: {arq}')\n",
    "            continue\n",
    "        \n",
    "        # 🔵 Trata colunas problemáticas: se tipo object e mistura texto com float\n",
    "        for col in df_tmp.select_dtypes(include='object').columns:\n",
    "            tipos = df_tmp[col].dropna().map(type).unique()\n",
    "            if any(t in [float, int] for t in tipos) and any(t in [str, bytes] for t in tipos):\n",
    "                print(f\"⚙️ Corrigindo coluna '{col}' (mistura de tipos)\")\n",
    "                df_tmp[col] = df_tmp[col].astype('string')\n",
    "        \n",
    "        # 📌 Salvar cada DataFrame como Parquet\n",
    "        nome_parquet = arq.replace('.xlsx', '.parquet').replace('.zip', '.parquet')\n",
    "        nome_parquet = urllib.parse.unquote(nome_parquet)\n",
    "        caminho_parquet = os.path.join(pasta_IBGE, nome_parquet)\n",
    "        \n",
    "        df_tmp.to_parquet(caminho_parquet, index=False, compression='snappy')\n",
    "        print(f\"✅ Salvo como Parquet: {nome_parquet}\")\n"
   ]
  },
  {
   "cell_type": "markdown",
   "id": "37faaf52",
   "metadata": {},
   "source": [
    "## 🧹 3. Limpar arquivos brutos\n"
   ]
  },
  {
   "cell_type": "code",
   "execution_count": 34,
   "id": "5e2b8f62",
   "metadata": {},
   "outputs": [
    {
     "name": "stdout",
     "output_type": "stream",
     "text": [
      "🗑️ Arquivo deletado: 3170206_UBERL%c3%82NDIA.zip\n",
      "🗑️ Arquivo deletado: Agregados_preliminares_por_setores_censitarios_BR.xlsx\n"
     ]
    }
   ],
   "source": [
    "# 📌 Deleta todos que não forem .parquet ou .gpkg\n",
    "for arq in arquivos:\n",
    "    if not arq.endswith('.parquet') and not arq.endswith('.gpkg'):\n",
    "        caminho_arquivo = os.path.join(pasta_destino, arq)\n",
    "        try:\n",
    "            os.remove(caminho_arquivo)\n",
    "            print(f\"🗑️ Arquivo deletado: {arq}\")\n",
    "        except Exception as e:\n",
    "            print(f\"❌ Erro ao tentar deletar {arq}: {e}\")"
   ]
  }
 ],
 "metadata": {
  "kernelspec": {
   "display_name": ".venv",
   "language": "python",
   "name": "python3"
  },
  "language_info": {
   "codemirror_mode": {
    "name": "ipython",
    "version": 3
   },
   "file_extension": ".py",
   "mimetype": "text/x-python",
   "name": "python",
   "nbconvert_exporter": "python",
   "pygments_lexer": "ipython3",
   "version": "3.11.9"
  }
 },
 "nbformat": 4,
 "nbformat_minor": 5
}
